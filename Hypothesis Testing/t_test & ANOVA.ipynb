{
 "cells": [
  {
   "cell_type": "markdown",
   "id": "2ebec0c1",
   "metadata": {},
   "source": [
    "\n",
    "# 🧪 t-test & ANOVA\n",
    "\n",
    "**데이터톤/현업에서 자주 쓰이는 평균 비교 검정 실습**\n",
    "\n",
    "- **독립표본 t-test (Independent samples t-test, Welch’s t-test)**: 두 그룹 평균 비교 (예: 남/여 점수)\n",
    "- **대응표본 t-test (Paired samples t-test, Dependent samples t-test)**: 같은 집단의 전/후 비교 (예: 교육 전/후 점수)\n",
    "- **일원 ANOVA (One-way ANOVA)**: 3개 이상 그룹 평균 비교 (예: 지역 A/B/C 평균 비교)\n",
    "- (옵션) **사후(pairwise) 비교**: 어느 그룹끼리 다른지 추가 확인 (보퍼로니 보정)\n"
   ]
  },
  {
   "cell_type": "code",
   "execution_count": 1,
   "id": "d104b196",
   "metadata": {},
   "outputs": [],
   "source": [
    "\n",
    "import numpy as np\n",
    "import pandas as pd\n",
    "from scipy import stats\n",
    "import matplotlib.pyplot as plt\n",
    "\n",
    "%matplotlib inline\n",
    "np.random.seed(42)\n",
    "pd.set_option('display.float_format', lambda x: f'{x:,.3f}')\n"
   ]
  },
  {
   "cell_type": "markdown",
   "id": "42ed5ba7",
   "metadata": {},
   "source": [
    "\n",
    "## 1. 예제 데이터 만들기\n",
    "- `group_A` vs `group_B`: **독립표본 t-test**\n",
    "- `pre` vs `post`: **대응표본 t-test**\n",
    "- `region_A/B/C`: **ANOVA**\n"
   ]
  },
  {
   "cell_type": "code",
   "execution_count": 2,
   "id": "9cc5f378",
   "metadata": {},
   "outputs": [
    {
     "data": {
      "text/html": [
       "<div>\n",
       "<style scoped>\n",
       "    .dataframe tbody tr th:only-of-type {\n",
       "        vertical-align: middle;\n",
       "    }\n",
       "\n",
       "    .dataframe tbody tr th {\n",
       "        vertical-align: top;\n",
       "    }\n",
       "\n",
       "    .dataframe thead th {\n",
       "        text-align: right;\n",
       "    }\n",
       "</style>\n",
       "<table border=\"1\" class=\"dataframe\">\n",
       "  <thead>\n",
       "    <tr style=\"text-align: right;\">\n",
       "      <th></th>\n",
       "      <th>group_A</th>\n",
       "      <th>group_B</th>\n",
       "      <th>pre</th>\n",
       "      <th>post</th>\n",
       "      <th>region_A</th>\n",
       "      <th>region_B</th>\n",
       "      <th>region_C</th>\n",
       "    </tr>\n",
       "  </thead>\n",
       "  <tbody>\n",
       "    <tr>\n",
       "      <th>count</th>\n",
       "      <td>120.000</td>\n",
       "      <td>110.000</td>\n",
       "      <td>80.000</td>\n",
       "      <td>80.000</td>\n",
       "      <td>60.000</td>\n",
       "      <td>65.000</td>\n",
       "      <td>70.000</td>\n",
       "    </tr>\n",
       "    <tr>\n",
       "      <th>mean</th>\n",
       "      <td>69.208</td>\n",
       "      <td>73.810</td>\n",
       "      <td>65.002</td>\n",
       "      <td>70.302</td>\n",
       "      <td>67.871</td>\n",
       "      <td>71.163</td>\n",
       "      <td>69.077</td>\n",
       "    </tr>\n",
       "    <tr>\n",
       "      <th>std</th>\n",
       "      <td>9.253</td>\n",
       "      <td>10.072</td>\n",
       "      <td>8.048</td>\n",
       "      <td>8.646</td>\n",
       "      <td>9.826</td>\n",
       "      <td>9.141</td>\n",
       "      <td>8.988</td>\n",
       "    </tr>\n",
       "    <tr>\n",
       "      <th>min</th>\n",
       "      <td>43.803</td>\n",
       "      <td>54.327</td>\n",
       "      <td>39.070</td>\n",
       "      <td>44.805</td>\n",
       "      <td>49.393</td>\n",
       "      <td>51.283</td>\n",
       "      <td>47.755</td>\n",
       "    </tr>\n",
       "    <tr>\n",
       "      <th>25%</th>\n",
       "      <td>64.281</td>\n",
       "      <td>65.194</td>\n",
       "      <td>59.784</td>\n",
       "      <td>63.893</td>\n",
       "      <td>59.485</td>\n",
       "      <td>64.521</td>\n",
       "      <td>64.061</td>\n",
       "    </tr>\n",
       "    <tr>\n",
       "      <th>50%</th>\n",
       "      <td>69.268</td>\n",
       "      <td>74.994</td>\n",
       "      <td>65.223</td>\n",
       "      <td>70.483</td>\n",
       "      <td>68.235</td>\n",
       "      <td>70.011</td>\n",
       "      <td>70.296</td>\n",
       "    </tr>\n",
       "    <tr>\n",
       "      <th>75%</th>\n",
       "      <td>73.828</td>\n",
       "      <td>79.738</td>\n",
       "      <td>70.128</td>\n",
       "      <td>75.127</td>\n",
       "      <td>74.418</td>\n",
       "      <td>76.850</td>\n",
       "      <td>75.074</td>\n",
       "    </tr>\n",
       "    <tr>\n",
       "      <th>max</th>\n",
       "      <td>94.632</td>\n",
       "      <td>111.527</td>\n",
       "      <td>82.152</td>\n",
       "      <td>91.068</td>\n",
       "      <td>86.547</td>\n",
       "      <td>99.710</td>\n",
       "      <td>90.436</td>\n",
       "    </tr>\n",
       "  </tbody>\n",
       "</table>\n",
       "</div>"
      ],
      "text/plain": [
       "       group_A  group_B    pre   post  region_A  region_B  region_C\n",
       "count  120.000  110.000 80.000 80.000    60.000    65.000    70.000\n",
       "mean    69.208   73.810 65.002 70.302    67.871    71.163    69.077\n",
       "std      9.253   10.072  8.048  8.646     9.826     9.141     8.988\n",
       "min     43.803   54.327 39.070 44.805    49.393    51.283    47.755\n",
       "25%     64.281   65.194 59.784 63.893    59.485    64.521    64.061\n",
       "50%     69.268   74.994 65.223 70.483    68.235    70.011    70.296\n",
       "75%     73.828   79.738 70.128 75.127    74.418    76.850    75.074\n",
       "max     94.632  111.527 82.152 91.068    86.547    99.710    90.436"
      ]
     },
     "execution_count": 2,
     "metadata": {},
     "output_type": "execute_result"
    }
   ],
   "source": [
    "\n",
    "# 독립표본 t-test\n",
    "n_A, n_B = 120, 110\n",
    "group_A = np.random.normal(loc=70, scale=10, size=n_A)\n",
    "group_B = np.random.normal(loc=73, scale=10, size=n_B)\n",
    "\n",
    "# 대응표본 t-test\n",
    "n_prepost = 80\n",
    "pre  = np.random.normal(loc=65, scale=8, size=n_prepost)\n",
    "improvement = np.random.normal(loc=5, scale=3, size=n_prepost)\n",
    "post = pre + improvement\n",
    "\n",
    "# ANOVA (3그룹)\n",
    "nA, nB, nC = 60, 65, 70\n",
    "region_A = np.random.normal(loc=68, scale=9, size=nA)\n",
    "region_B = np.random.normal(loc=72, scale=9, size=nB)\n",
    "region_C = np.random.normal(loc=70, scale=9, size=nC)\n",
    "\n",
    "df = pd.DataFrame({\n",
    "    'group_A': pd.Series(group_A),\n",
    "    'group_B': pd.Series(group_B),\n",
    "    'pre': pd.Series(pre),\n",
    "    'post': pd.Series(post),\n",
    "    'region_A': pd.Series(region_A),\n",
    "    'region_B': pd.Series(region_B),\n",
    "    'region_C': pd.Series(region_C),\n",
    "})\n",
    "df.describe()\n"
   ]
  },
  {
   "cell_type": "markdown",
   "id": "4c328ba5",
   "metadata": {},
   "source": [
    "\n",
    "## 2. 빠른 시각화 (박스플롯)\n"
   ]
  },
  {
   "cell_type": "code",
   "execution_count": 3,
   "id": "7e56c907",
   "metadata": {},
   "outputs": [
    {
     "name": "stderr",
     "output_type": "stream",
     "text": [
      "/var/folders/hf/ndbx766s1wz64f0tzx4x6fb40000gn/T/ipykernel_36474/4196374454.py:2: MatplotlibDeprecationWarning: The 'labels' parameter of boxplot() has been renamed 'tick_labels' since Matplotlib 3.9; support for the old name will be dropped in 3.11.\n",
      "  plt.boxplot([group_A, group_B], labels=['Group A', 'Group B'])\n"
     ]
    },
    {
     "data": {
      "image/png": "[encoded data removed]",
      "text/plain": [
       "<Figure size 600x400 with 1 Axes>"
      ]
     },
     "metadata": {},
     "output_type": "display_data"
    },
    {
     "name": "stderr",
     "output_type": "stream",
     "text": [
      "/var/folders/hf/ndbx766s1wz64f0tzx4x6fb40000gn/T/ipykernel_36474/4196374454.py:8: MatplotlibDeprecationWarning: The 'labels' parameter of boxplot() has been renamed 'tick_labels' since Matplotlib 3.9; support for the old name will be dropped in 3.11.\n",
      "  plt.boxplot([pre, post], labels=['Pre', 'Post'])\n"
     ]
    },
    {
     "data": {
      "image/png": "[encoded data removed]",
      "text/plain": [
       "<Figure size 600x400 with 1 Axes>"
      ]
     },
     "metadata": {},
     "output_type": "display_data"
    },
    {
     "name": "stderr",
     "output_type": "stream",
     "text": [
      "/var/folders/hf/ndbx766s1wz64f0tzx4x6fb40000gn/T/ipykernel_36474/4196374454.py:14: MatplotlibDeprecationWarning: The 'labels' parameter of boxplot() has been renamed 'tick_labels' since Matplotlib 3.9; support for the old name will be dropped in 3.11.\n",
      "  plt.boxplot([region_A, region_B, region_C], labels=['Region A', 'Region B', 'Region C'])\n"
     ]
    },
    {
     "data": {
      "image/png": "[encoded data removed]",
      "text/plain": [
       "<Figure size 600x400 with 1 Axes>"
      ]
     },
     "metadata": {},
     "output_type": "display_data"
    }
   ],
   "source": [
    "\n",
    "plt.figure(figsize=(6,4))\n",
    "plt.boxplot([group_A, group_B], labels=['Group A', 'Group B'])\n",
    "plt.title('Independent Samples (A vs B)')\n",
    "plt.ylabel('Score')\n",
    "plt.show()\n",
    "\n",
    "plt.figure(figsize=(6,4))\n",
    "plt.boxplot([pre, post], labels=['Pre', 'Post'])\n",
    "plt.title('Paired Samples (Pre vs Post)')\n",
    "plt.ylabel('Score')\n",
    "plt.show()\n",
    "\n",
    "plt.figure(figsize=(6,4))\n",
    "plt.boxplot([region_A, region_B, region_C], labels=['Region A', 'Region B', 'Region C'])\n",
    "plt.title('ANOVA Groups (A / B / C)')\n",
    "plt.ylabel('Score')\n",
    "plt.show()\n"
   ]
  },
  {
   "cell_type": "markdown",
   "id": "d3bb9118",
   "metadata": {},
   "source": [
    "\n",
    "## 3. p-value 해석 헬퍼\n"
   ]
  },
  {
   "cell_type": "code",
   "execution_count": 4,
   "id": "41ce5ebe",
   "metadata": {},
   "outputs": [],
   "source": [
    "\n",
    "def interpret_p(p, alpha=0.05):\n",
    "    if p < alpha:\n",
    "        return f\"p = {p:.4f} (< {alpha}) → **유의함**: 평균 차이가 **있다**고 볼 수 있습니다.\"\n",
    "    else:\n",
    "        return f\"p = {p:.4f} (>= {alpha}) → **유의하지 않음**: 평균 차이가 **있다고 보기 어렵습니다**.\"\n"
   ]
  },
  {
   "cell_type": "markdown",
   "id": "b1d4f81d",
   "metadata": {},
   "source": [
    "\n",
    "## 4. 독립표본 t-test (Independent samples t-test 또는 Welch’s t-test)\n"
   ]
  },
  {
   "cell_type": "code",
   "execution_count": 5,
   "id": "87f15903",
   "metadata": {},
   "outputs": [
    {
     "name": "stdout",
     "output_type": "stream",
     "text": [
      "t-statistic: -3.598, p-value: 0.000395\n",
      "p = 0.0004 (< 0.05) → **유의함**: 평균 차이가 **있다**고 볼 수 있습니다.\n"
     ]
    }
   ],
   "source": [
    "\n",
    "t_stat, p_val = stats.ttest_ind(group_A, group_B, equal_var=False)\n",
    "print(f\"t-statistic: {t_stat:.3f}, p-value: {p_val:.6f}\")\n",
    "print(interpret_p(p_val))\n"
   ]
  },
  {
   "cell_type": "markdown",
   "id": "3822ecd6",
   "metadata": {},
   "source": [
    "\n",
    "## 5. 대응표본 t-test (Paired samples t-test 또는 Dependent samples t-test)\n"
   ]
  },
  {
   "cell_type": "code",
   "execution_count": 6,
   "id": "7889f041",
   "metadata": {},
   "outputs": [
    {
     "name": "stdout",
     "output_type": "stream",
     "text": [
      "t-statistic: -18.227, p-value: 0.000000\n",
      "p = 0.0000 (< 0.05) → **유의함**: 평균 차이가 **있다**고 볼 수 있습니다.\n"
     ]
    }
   ],
   "source": [
    "\n",
    "t_stat_p, p_val_p = stats.ttest_rel(pre, post)\n",
    "print(f\"t-statistic: {t_stat_p:.3f}, p-value: {p_val_p:.6f}\")\n",
    "print(interpret_p(p_val_p))\n"
   ]
  },
  {
   "cell_type": "markdown",
   "id": "a40839b1",
   "metadata": {},
   "source": [
    "\n",
    "## 6. 일원 ANOVA (One-way ANOVA)\n"
   ]
  },
  {
   "cell_type": "code",
   "execution_count": 7,
   "id": "c5d86847",
   "metadata": {},
   "outputs": [
    {
     "name": "stdout",
     "output_type": "stream",
     "text": [
      "F-statistic: 2.020, p-value: 0.135491\n",
      "p = 0.1355 (>= 0.05) → **유의하지 않음**: 평균 차이가 **있다고 보기 어렵습니다**.\n"
     ]
    }
   ],
   "source": [
    "\n",
    "F_stat, p_val_anova = stats.f_oneway(region_A, region_B, region_C)\n",
    "print(f\"F-statistic: {F_stat:.3f}, p-value: {p_val_anova:.6f}\")\n",
    "print(interpret_p(p_val_anova))\n"
   ]
  },
  {
   "cell_type": "markdown",
   "id": "55775fe0",
   "metadata": {},
   "source": [
    "\n",
    "### (옵션) 사후 비교 (Bonferroni 보정)\n"
   ]
  },
  {
   "cell_type": "code",
   "execution_count": 8,
   "id": "cd05624d",
   "metadata": {},
   "outputs": [
    {
     "data": {
      "text/html": [
       "<div>\n",
       "<style scoped>\n",
       "    .dataframe tbody tr th:only-of-type {\n",
       "        vertical-align: middle;\n",
       "    }\n",
       "\n",
       "    .dataframe tbody tr th {\n",
       "        vertical-align: top;\n",
       "    }\n",
       "\n",
       "    .dataframe thead th {\n",
       "        text-align: right;\n",
       "    }\n",
       "</style>\n",
       "<table border=\"1\" class=\"dataframe\">\n",
       "  <thead>\n",
       "    <tr style=\"text-align: right;\">\n",
       "      <th></th>\n",
       "      <th>pair</th>\n",
       "      <th>t_stat</th>\n",
       "      <th>p_raw</th>\n",
       "      <th>p_bonf</th>\n",
       "    </tr>\n",
       "  </thead>\n",
       "  <tbody>\n",
       "    <tr>\n",
       "      <th>0</th>\n",
       "      <td>Region A vs Region B</td>\n",
       "      <td>-1.935</td>\n",
       "      <td>0.055</td>\n",
       "      <td>0.166</td>\n",
       "    </tr>\n",
       "    <tr>\n",
       "      <th>1</th>\n",
       "      <td>Region A vs Region C</td>\n",
       "      <td>-0.725</td>\n",
       "      <td>0.470</td>\n",
       "      <td>1.000</td>\n",
       "    </tr>\n",
       "    <tr>\n",
       "      <th>2</th>\n",
       "      <td>Region B vs Region C</td>\n",
       "      <td>1.336</td>\n",
       "      <td>0.184</td>\n",
       "      <td>0.552</td>\n",
       "    </tr>\n",
       "  </tbody>\n",
       "</table>\n",
       "</div>"
      ],
      "text/plain": [
       "                   pair  t_stat  p_raw  p_bonf\n",
       "0  Region A vs Region B  -1.935  0.055   0.166\n",
       "1  Region A vs Region C  -0.725  0.470   1.000\n",
       "2  Region B vs Region C   1.336  0.184   0.552"
      ]
     },
     "execution_count": 8,
     "metadata": {},
     "output_type": "execute_result"
    }
   ],
   "source": [
    "\n",
    "from itertools import combinations\n",
    "groups = {'Region A': region_A, 'Region B': region_B, 'Region C': region_C}\n",
    "pairs = list(combinations(groups.keys(), 2))\n",
    "m = len(pairs)\n",
    "\n",
    "rows = []\n",
    "for g1, g2 in pairs:\n",
    "    t_stat, p = stats.ttest_ind(groups[g1], groups[g2], equal_var=False)\n",
    "    p_adj = min(p * m, 1.0)\n",
    "    rows.append({'pair': f'{g1} vs {g2}', 't_stat': t_stat, 'p_raw': p, 'p_bonf': p_adj})\n",
    "pd.DataFrame(rows)\n"
   ]
  },
  {
   "cell_type": "markdown",
   "id": "a584f84a",
   "metadata": {},
   "source": [
    "\n",
    "## 7. 리포트 문장 예시\n",
    "- A vs B: “Welch t-test 결과 유의(p<0.05) → 평균 차이 존재”\n",
    "- Pre vs Post: “paired t-test 결과 유의 → 교육 효과 존재”\n",
    "- ANOVA: “집단 간 평균 차이 유의 → 사후 비교에서 B가 A보다 높음 등”\n"
   ]
  }
 ],
 "metadata": {
  "kernelspec": {
   "display_name": "Python [conda env:base] *",
   "language": "python",
   "name": "conda-base-py"
  },
  "language_info": {
   "codemirror_mode": {
    "name": "ipython",
    "version": 3
   },
   "file_extension": ".py",
   "mimetype": "text/x-python",
   "name": "python",
   "nbconvert_exporter": "python",
   "pygments_lexer": "ipython3",
   "version": "3.12.7"
  }
 },
 "nbformat": 4,
 "nbformat_minor": 5
}

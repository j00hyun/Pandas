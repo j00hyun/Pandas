{
 "cells": [
  {
   "cell_type": "markdown",
   "id": "bfbcffa5",
   "metadata": {},
   "source": [
    "\n",
    "# 🚚 지연 배송(Late Shipments) 데이터 분석 실습\n",
    "\n",
    "**가설검정(Hypothesis Testing)** 과 **신뢰구간(Confidence Interval)** 개념을 \n",
    "실제 데이터(`late_shipments`)에 적용\n",
    "\n",
    "---\n",
    "## 💡 분석 목표\n",
    "\n",
    "의료물품 배송 데이터에서 **지연 배송 비율(late proportion)** 이  \n",
    "가설로 주어진 **6% (0.06)** 과 유의하게 다른지 판단합니다.\n",
    "\n",
    "- **귀무가설 (Null Hypothesis) (H₀)**: 지연 배송 비율 = 0.06  \n",
    "- **대립가설 (Alternative Hypothesis) (H₁)**: 지연 배송 비율 > 0.06\n"
   ]
  },
  {
   "cell_type": "code",
   "execution_count": 1,
   "id": "d9ebf424",
   "metadata": {},
   "outputs": [
    {
     "name": "stdout",
     "output_type": "stream",
     "text": [
      "        id       country managed_by  fulfill_via vendor_inco_term  \\\n",
      "0  36203.0       Nigeria   PMO - US  Direct Drop              EXW   \n",
      "1  30998.0      Botswana   PMO - US  Direct Drop              EXW   \n",
      "2  69871.0       Vietnam   PMO - US  Direct Drop              EXW   \n",
      "3  17648.0  South Africa   PMO - US  Direct Drop              DDP   \n",
      "4   5647.0        Uganda   PMO - US  Direct Drop              EXW   \n",
      "\n",
      "  shipment_mode  late_delivery late product_group    sub_classification  ...  \\\n",
      "0           Air            1.0  Yes          HRDT              HIV test  ...   \n",
      "1           Air            0.0   No          HRDT              HIV test  ...   \n",
      "2           Air            0.0   No           ARV                 Adult  ...   \n",
      "3         Ocean            0.0   No           ARV                 Adult  ...   \n",
      "4           Air            0.0   No          HRDT  HIV test - Ancillary  ...   \n",
      "\n",
      "  line_item_quantity line_item_value pack_price unit_price  \\\n",
      "0             2996.0       266644.00      89.00       0.89   \n",
      "1               25.0          800.00      32.00       1.60   \n",
      "2            22925.0       110040.00       4.80       0.08   \n",
      "3           152535.0       361507.95       2.37       0.04   \n",
      "4              850.0            8.50       0.01       0.00   \n",
      "\n",
      "             manufacturing_site first_line_designation  weight_kilograms  \\\n",
      "0       Alere Medical Co., Ltd.                    Yes            1426.0   \n",
      "1          Trinity Biotech, Plc                    Yes              10.0   \n",
      "2  Hetero Unit III Hyderabad IN                    Yes            3723.0   \n",
      "3     Aurobindo Unit III, India                    Yes            7698.0   \n",
      "4               Inverness Japan                    Yes              56.0   \n",
      "\n",
      "   freight_cost_usd  freight_cost_groups  line_item_insurance_usd  \n",
      "0          33279.83            expensive                   373.83  \n",
      "1            559.89           reasonable                     1.72  \n",
      "2          19056.13            expensive                   181.57  \n",
      "3          11372.23            expensive                   779.41  \n",
      "4            360.00           reasonable                     0.01  \n",
      "\n",
      "[5 rows x 27 columns]\n",
      "late\n",
      "No     939\n",
      "Yes     61\n",
      "Name: count, dtype: int64\n"
     ]
    }
   ],
   "source": [
    "\n",
    "# 라이브러리 불러오기\n",
    "import pandas as pd\n",
    "import numpy as np\n",
    "from scipy.stats import norm\n",
    "\n",
    "# 데이터 불러오기\n",
    "late_shipments = pd.read_feather(\"late_shipments.feather\")\n",
    "\n",
    "# 데이터 확인\n",
    "print(late_shipments.head())\n",
    "print(late_shipments['late'].value_counts())\n"
   ]
  },
  {
   "cell_type": "markdown",
   "id": "e5dbb800",
   "metadata": {},
   "source": [
    "\n",
    "## 1️⃣ 표본 비율 계산 (Sample proportion)\n",
    "\n",
    "- 데이터프레임에서 `\"late\"` 컬럼의 `\"Yes\"` 비율을 구합니다.  \n",
    "- `mean()`을 사용하면 간단히 비율 계산이 가능합니다.\n",
    "\n",
    "예:  \n",
    "```python\n",
    "prop = (df['late'] == \"Yes\").mean()\n",
    "```\n"
   ]
  },
  {
   "cell_type": "code",
   "execution_count": 2,
   "id": "3d7e9897",
   "metadata": {},
   "outputs": [
    {
     "name": "stdout",
     "output_type": "stream",
     "text": [
      "지연 배송 비율 (표본 비율): 0.061\n"
     ]
    }
   ],
   "source": [
    "\n",
    "# 지연 배송 비율 계산\n",
    "late_prop_samp = (late_shipments['late'] == \"Yes\").mean()\n",
    "\n",
    "print(\"지연 배송 비율 (표본 비율):\", late_prop_samp)\n"
   ]
  },
  {
   "cell_type": "markdown",
   "id": "c45c0a81",
   "metadata": {},
   "source": [
    "\n",
    "## 2️⃣ z-score 계산\n",
    "\n",
    "- **z-score**는 표본 통계량이 가설 하의 모수로부터 얼마나 떨어져 있는지를 표준화한 값입니다.  \n",
    "- 계산식:\n",
    "\\[ z = \\frac{\\hat{p} - p_0}{SE} \\]\n",
    "\n",
    "여기서  \n",
    "- \\( \\hat{p} \\): 표본 비율  \n",
    "- \\( p_0 \\): 가설 비율 (0.06)  \n",
    "- \\( SE \\): 표준오차 (bootstrap 분포로부터 계산)\n",
    "\n",
    "---\n",
    "### 📘 예제 코드\n"
   ]
  },
  {
   "cell_type": "code",
   "execution_count": 6,
   "id": "b181dfb9",
   "metadata": {},
   "outputs": [
    {
     "name": "stdout",
     "output_type": "stream",
     "text": [
      "z-score: 0.128\n"
     ]
    }
   ],
   "source": [
    "\n",
    "# 가설 비율 설정\n",
    "late_prop_hyp = 0.06\n",
    "\n",
    "# late_shipments 데이터에서 'Yes'/'No' 비율 구하기\n",
    "late_col = (late_shipments['late'] == \"Yes\").astype(int).values\n",
    "\n",
    "# 부트스트랩 반복 (예: 1000번 재추출)\n",
    "B = 1000\n",
    "n = len(late_col)\n",
    "boot_props = []\n",
    "\n",
    "for _ in range(B):\n",
    "    sample = np.random.choice(late_col, size=n, replace=True)  # 복원추출\n",
    "    boot_props.append(sample.mean())\n",
    "\n",
    "# 결과: bootstrap 분포 리스트\n",
    "late_shipments_boot_distn = np.array(boot_props)\n",
    "\n",
    "# bootstrap 분포의 표준오차 계산\n",
    "std_error = np.std(late_shipments_boot_distn, ddof=1)\n",
    "\n",
    "# z-score 계산\n",
    "z_score = (late_prop_samp - late_prop_hyp) / std_error\n",
    "\n",
    "print(f\"z-score: {z_score:.3f}\")\n"
   ]
  },
  {
   "cell_type": "markdown",
   "id": "4ca77ecc",
   "metadata": {},
   "source": [
    "\n",
    "## 3️⃣ p-value 계산\n",
    "\n",
    "- **p-value**는 “귀무가설이 참일 때, 지금처럼 극단적인 결과가 나올 확률”입니다.  \n",
    "- 본 예제에서는 **단측 검정(one-tailed)** 을 수행합니다.  \n",
    "  (대립가설: 실제 비율이 0.06보다 크다)\n",
    "\n",
    "---\n",
    "### 📘 예제 코드\n"
   ]
  },
  {
   "cell_type": "code",
   "execution_count": 7,
   "id": "56bade91",
   "metadata": {},
   "outputs": [
    {
     "name": "stdout",
     "output_type": "stream",
     "text": [
      "p-value: 0.449066\n",
      "귀무가설 채택 → 지연 배송 비율이 6%보다 높다고 보기 어려움.\n"
     ]
    }
   ],
   "source": [
    "\n",
    "# p-value 계산 (단측)\n",
    "p_value = 1 - norm.cdf(z_score, loc=0, scale=1)\n",
    "\n",
    "print(f\"p-value: {p_value:.6f}\")\n",
    "\n",
    "# 해석 기준\n",
    "alpha = 0.05\n",
    "if p_value < alpha:\n",
    "    print(\"귀무가설 기각 → 지연 배송 비율이 6%보다 높다고 볼 수 있음.\")\n",
    "else:\n",
    "    print(\"귀무가설 채택 → 지연 배송 비율이 6%보다 높다고 보기 어려움.\")\n"
   ]
  },
  {
   "cell_type": "markdown",
   "id": "76238461",
   "metadata": {},
   "source": [
    "\n",
    "## 4️⃣ 95% 신뢰구간 계산\n",
    "\n",
    "- **신뢰구간(Confidence Interval)** 은 모수(진짜 비율)가 들어 있을 것으로 기대되는 구간입니다.  \n",
    "- Bootstrap 분포를 활용한 **quantile(분위수)** 방법을 사용합니다.\n"
   ]
  },
  {
   "cell_type": "code",
   "execution_count": 8,
   "id": "da3b6206",
   "metadata": {},
   "outputs": [
    {
     "name": "stdout",
     "output_type": "stream",
     "text": [
      "95% 신뢰구간: (0.0460, 0.0770)\n",
      "가설 비율 0.06은 신뢰구간 안에 있음 → 유의한 차이 없음\n"
     ]
    }
   ],
   "source": [
    "\n",
    "# 95% 신뢰구간 (bootstrap quantile method)\n",
    "lower = np.quantile(late_shipments_boot_distn, 0.025)\n",
    "upper = np.quantile(late_shipments_boot_distn, 0.975)\n",
    "\n",
    "print(f\"95% 신뢰구간: ({lower:.4f}, {upper:.4f})\")\n",
    "\n",
    "if late_prop_hyp < lower or late_prop_hyp > upper:\n",
    "    print(\"가설 비율 0.06은 신뢰구간 밖에 있음 → 유의한 차이 존재 가능\")\n",
    "else:\n",
    "    print(\"가설 비율 0.06은 신뢰구간 안에 있음 → 유의한 차이 없음\")\n"
   ]
  },
  {
   "cell_type": "markdown",
   "id": "12e69b77",
   "metadata": {},
   "source": [
    "\n",
    "---\n",
    "## ✅ 요약 정리\n",
    "\n",
    "| 단계 | 내용 | 결과 해석 |\n",
    "|------|------|------------|\n",
    "| 1 | 표본 비율 계산 | 전체 배송 중 “지연” 비율 |\n",
    "| 2 | z-score 계산 | 표본 비율이 가설 비율과 얼마나 다른지 |\n",
    "| 3 | p-value 계산 | 귀무가설이 참일 때 이런 결과가 나올 확률 |\n",
    "| 4 | 신뢰구간 계산 | 모수(진짜 비율)의 합리적 범위 |\n",
    "| **결론** | p-value < 0.05 또는 신뢰구간이 0.06을 포함하지 않으면 → 유의한 차이 |\n",
    "\n",
    "---\n",
    "**💡 해석 예시:**  \n",
    "“지연 배송 비율의 표본 추정치는 0.078이며, 이는 가설 비율 0.06보다 유의하게 높았다 (z=2.1, p=0.018).  \n",
    "따라서 실제 지연 배송 비율은 6%보다 높다고 결론 내릴 수 있다.”\n"
   ]
  }
 ],
 "metadata": {
  "kernelspec": {
   "display_name": "Python [conda env:base] *",
   "language": "python",
   "name": "conda-base-py"
  },
  "language_info": {
   "codemirror_mode": {
    "name": "ipython",
    "version": 3
   },
   "file_extension": ".py",
   "mimetype": "text/x-python",
   "name": "python",
   "nbconvert_exporter": "python",
   "pygments_lexer": "ipython3",
   "version": "3.12.7"
  }
 },
 "nbformat": 4,
 "nbformat_minor": 5
}

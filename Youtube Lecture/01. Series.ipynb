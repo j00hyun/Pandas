{
 "cells": [
  {
   "cell_type": "markdown",
   "id": "ad29871b-01a6-44ac-98f0-793fae4c4683",
   "metadata": {},
   "source": [
    "# Pandas\n",
    "파이썬에서 사용하는 데이터 분석 라이브러리"
   ]
  },
  {
   "cell_type": "code",
   "execution_count": 1,
   "id": "7e4dd776-601b-40cb-9b20-44ffaed49b12",
   "metadata": {},
   "outputs": [],
   "source": [
    "import pandas as pd"
   ]
  },
  {
   "cell_type": "markdown",
   "id": "96490804-dc12-4592-a4ae-0a07690ff1d3",
   "metadata": {},
   "source": [
    "# 1. Series\n",
    "1차원 데이터 (정수, 실수, 문자열 등)"
   ]
  },
  {
   "cell_type": "markdown",
   "id": "244cc818-e6b6-4721-9a80-276674185705",
   "metadata": {},
   "source": [
    "## Series 객체 생성\n",
    "예) 1월부터 4월까지 평균 온도 데이터 (-20, -10, 10, 20)"
   ]
  },
  {
   "cell_type": "code",
   "execution_count": 2,
   "id": "b77cc0db-5529-476e-af47-9d16b7da59a3",
   "metadata": {},
   "outputs": [
    {
     "name": "stdout",
     "output_type": "stream",
     "text": [
      "0   -20\n",
      "1   -10\n",
      "2    10\n",
      "3    20\n",
      "dtype: int64\n"
     ]
    }
   ],
   "source": [
    "temp = pd.Series([-20, -10, 10, 20])\n",
    "print(temp)"
   ]
  },
  {
   "cell_type": "code",
   "execution_count": 3,
   "id": "f63ebe45-917e-4c33-8870-fd7bc3ffb1a6",
   "metadata": {},
   "outputs": [
    {
     "data": {
      "text/plain": [
       "-20"
      ]
     },
     "execution_count": 3,
     "metadata": {},
     "output_type": "execute_result"
    }
   ],
   "source": [
    "temp[0] # 1월 온도"
   ]
  },
  {
   "cell_type": "code",
   "execution_count": 4,
   "id": "e769d42e-72d7-4d2a-bd69-9b50b861b6cc",
   "metadata": {},
   "outputs": [
    {
     "data": {
      "text/plain": [
       "10"
      ]
     },
     "execution_count": 4,
     "metadata": {},
     "output_type": "execute_result"
    }
   ],
   "source": [
    "temp[2] # 3월 온도"
   ]
  },
  {
   "cell_type": "markdown",
   "id": "fca82e6c-1b22-4ba6-869f-9ac8d34512fa",
   "metadata": {},
   "source": [
    "## Series 객체 생성 (Index 지정)"
   ]
  },
  {
   "cell_type": "code",
   "execution_count": 6,
   "id": "2a19408f-2079-4ba9-9508-d6a98ae8346e",
   "metadata": {},
   "outputs": [
    {
     "data": {
      "text/plain": [
       "Jan   -20\n",
       "Feb   -10\n",
       "Mar    10\n",
       "Apr    20\n",
       "dtype: int64"
      ]
     },
     "execution_count": 6,
     "metadata": {},
     "output_type": "execute_result"
    }
   ],
   "source": [
    "temp = pd.Series([-20, -10, 10, 20], index=['Jan', 'Feb', 'Mar', 'Apr'])\n",
    "temp"
   ]
  },
  {
   "cell_type": "code",
   "execution_count": 7,
   "id": "a54ee346-ba08-4e49-bbc6-17b5c3422165",
   "metadata": {},
   "outputs": [
    {
     "data": {
      "text/plain": [
       "-20"
      ]
     },
     "execution_count": 7,
     "metadata": {},
     "output_type": "execute_result"
    }
   ],
   "source": [
    "temp['Jan'] # index Jan (1월) 에 해당하는 데이터 출력"
   ]
  },
  {
   "cell_type": "code",
   "execution_count": 8,
   "id": "ba8d7ebf-ca3d-4400-9afa-0eeb0150d7a5",
   "metadata": {},
   "outputs": [
    {
     "data": {
      "text/plain": [
       "20"
      ]
     },
     "execution_count": 8,
     "metadata": {},
     "output_type": "execute_result"
    }
   ],
   "source": [
    "temp['Apr'] # index Apr (4월) 에 해당하는 데이터 출력"
   ]
  },
  {
   "cell_type": "code",
   "execution_count": 10,
   "id": "a8bc4dd0-5d4c-47f2-993f-d8724917f354",
   "metadata": {},
   "outputs": [],
   "source": [
    "# temp['Jun'] # 존재하지 않는 index 접근 시도 시 에러"
   ]
  },
  {
   "cell_type": "code",
   "execution_count": null,
   "id": "8a28065f-352d-423e-8e8c-6f1ee38ee387",
   "metadata": {},
   "outputs": [],
   "source": []
  }
 ],
 "metadata": {
  "kernelspec": {
   "display_name": "Python [conda env:base] *",
   "language": "python",
   "name": "conda-base-py"
  },
  "language_info": {
   "codemirror_mode": {
    "name": "ipython",
    "version": 3
   },
   "file_extension": ".py",
   "mimetype": "text/x-python",
   "name": "python",
   "nbconvert_exporter": "python",
   "pygments_lexer": "ipython3",
   "version": "3.12.7"
  }
 },
 "nbformat": 4,
 "nbformat_minor": 5
}
